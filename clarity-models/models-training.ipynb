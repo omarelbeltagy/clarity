{
 "cells": [
  {
   "metadata": {},
   "cell_type": "markdown",
   "source": [
    "## Setup Google Colab\n",
    "\n",
    "Clone the Repository and set the working directory to the clarity-models folder."
   ],
   "id": "4e02f0af892b7eea"
  },
  {
   "metadata": {},
   "cell_type": "code",
   "source": "!git clone https://github.com/omarelbeltagy/clarity",
   "id": "7972b345d949a0ea",
   "outputs": [],
   "execution_count": null
  },
  {
   "metadata": {},
   "cell_type": "markdown",
   "source": [
    "Now select the runtime type to GPU:\n",
    "1. Click on \"Runtime\" in the top menu.\n",
    "2. Select \"Change runtime type\".\n",
    "3. In the popup window, choose \"GPU\" from the \"Hardware accelerator\" dropdown menu.\n",
    "4. Click \"Save\"."
   ],
   "id": "739cfb1001b54ae6"
  },
  {
   "metadata": {},
   "cell_type": "markdown",
   "source": [
    "## Set Working Directory\n",
    "\n",
    "Set the current working directory to the clarity-models folder."
   ],
   "id": "cd23ceafebdb1fef"
  },
  {
   "metadata": {},
   "cell_type": "code",
   "source": "%cd /content/clarity/clarity-models",
   "id": "2903024a5e6ac406",
   "outputs": [],
   "execution_count": null
  },
  {
   "metadata": {},
   "cell_type": "markdown",
   "source": [
    "## Get Dependencies\n",
    "\n",
    "Install the required packages from the requirements file."
   ],
   "id": "18c6ff4f3eae81b5"
  },
  {
   "metadata": {},
   "cell_type": "code",
   "source": [
    "!pip uninstall -y torch torchvision torchaudio tensorflow jax jaxlib cupy-cuda12x cudf-cu12 dask-cudf-cu12 pylibcudf-cu12\n",
    "!pip install torch==2.8.0 torchvision==0.23.0 torchaudio==2.8.0\n",
    "!pip install transformers[torch]==4.57.1 accelerate peft bitsandbytes\n",
    "!pip install datasets fastapi uvicorn loguru PyYAML sentencepiece tensorboard==2.19.0 pandas==2.2.2 requests==2.32.4 pillow==11.1.0 pydantic==2.11.3 protobuf==5.29.1 numpy==2.1.0"
   ],
   "id": "cedadbbf1a4912fc",
   "outputs": [],
   "execution_count": null
  },
  {
   "metadata": {},
   "cell_type": "markdown",
   "source": [
    "## Check Environment\n",
    "\n",
    "Print out the versions of Python, PyTorch, and check for GPU availability."
   ],
   "id": "aa9b737e58df7009"
  },
  {
   "metadata": {},
   "cell_type": "code",
   "source": [
    "import torch\n",
    "\n",
    "print(f\"GPU Available: {torch.cuda.is_available()}\")\n",
    "if torch.cuda.is_available():\n",
    "    print(f\"GPU Name: {torch.cuda.get_device_name(0)}\")\n",
    "    print(f\"GPU Memory: {torch.cuda.get_device_properties(0).total_memory / 1e9:.2f} GB\")"
   ],
   "id": "5f9a20be275c4007",
   "outputs": [],
   "execution_count": null
  },
  {
   "metadata": {},
   "cell_type": "markdown",
   "source": [
    "## Configure Model\n",
    "\n",
    "Set up a custom configuration for training a LoRA model based on Facebook's OPT-6.7B"
   ],
   "id": "944f68f92ad9b6fd"
  },
  {
   "metadata": {},
   "cell_type": "code",
   "source": [
    "config = \"\"\"\n",
    "models:\n",
    "  - name: \"opt-6.7b\"\n",
    "    type: \"lora\"\n",
    "    enabled: true\n",
    "\n",
    "    model_config:\n",
    "      model_name: \"facebook/opt-6.7b\"\n",
    "      use_8bit: true\n",
    "\n",
    "    training_config:\n",
    "      max_length: 256\n",
    "      batch_size: 2\n",
    "      gradient_accumulation_steps: 8\n",
    "      learning_rate: 3e-4\n",
    "      num_epochs: 3\n",
    "\n",
    "    label_config:\n",
    "      labels:\n",
    "        - \"Clear Reply\"\n",
    "        - \"Clear Non-Reply\"\n",
    "        - \"Ambivalent\"\n",
    "\"\"\"\n",
    "\n",
    "# Write config (choose one)\n",
    "with open('ipynb-config.yaml', 'w') as f:\n",
    "    f.write(config)\n",
    "\n",
    "print(\"Configuration saved to ipynb-config.yaml\")"
   ],
   "id": "179499bd66f08e75",
   "outputs": [],
   "execution_count": null
  },
  {
   "metadata": {},
   "cell_type": "markdown",
   "source": [
    "## List available Models\n",
    "\n",
    "Print out the available models based on the configuration file to verify setup."
   ],
   "id": "c546fe9345f09dfa"
  },
  {
   "metadata": {},
   "cell_type": "code",
   "source": "!python app.py --config ipynb-config.yaml list",
   "id": "83e21e8658914174",
   "outputs": [],
   "execution_count": null
  },
  {
   "metadata": {},
   "cell_type": "markdown",
   "source": [
    "## Train the Model\n",
    "\n",
    "Start training the model using the specified configuration."
   ],
   "id": "b640f6766fce1b44"
  },
  {
   "metadata": {},
   "cell_type": "code",
   "source": "!python app.py --config ipynb-config.yaml train --tensorboard",
   "id": "77bd46ad587193dc",
   "outputs": [],
   "execution_count": null
  },
  {
   "metadata": {},
   "cell_type": "markdown",
   "source": [
    "## Test the Model\n",
    "\n",
    "Test the trained model with a sample question and answer."
   ],
   "id": "cefafedc44d67393"
  },
  {
   "metadata": {},
   "cell_type": "code",
   "source": [
    "# Single prediction\n",
    "!python app.py --config ipynb-config.yaml test --question \"Will you invite them to the White House?\" --answer \"We are ready if they are serious.\""
   ],
   "id": "21a7c42241faa4d2",
   "outputs": [],
   "execution_count": null
  },
  {
   "metadata": {},
   "cell_type": "markdown",
   "source": [
    "## Save Model to Drive\n",
    "\n",
    "Save the trained model to Google Drive for later use."
   ],
   "id": "4bb8e88f238ea7e9"
  },
  {
   "metadata": {},
   "cell_type": "code",
   "source": [
    "from google.colab import drive\n",
    "\n",
    "drive.mount('/content/drive')\n",
    "\n",
    "# Copy trained model to Drive\n",
    "!cp -r ./.artifacts /content/drive/MyDrive/clarity-models-trained/\n",
    "\n",
    "print(\"Model saved to Google Drive!\")"
   ],
   "id": "d91c09f9e36add3f",
   "outputs": [],
   "execution_count": null
  },
  {
   "metadata": {},
   "cell_type": "markdown",
   "source": [
    "## Download Model\n",
    "\n",
    "Download the trained model as a zip file to your local machine."
   ],
   "id": "c6baf42424c8af85"
  },
  {
   "metadata": {},
   "cell_type": "code",
   "source": [
    "# Create zip of trained model\n",
    "!zip -r trained_model.zip ./.artifacts/\n",
    "\n",
    "# Download\n",
    "from google.colab import files\n",
    "\n",
    "files.download('trained_model.zip')"
   ],
   "id": "dc10251dc265173a",
   "outputs": [],
   "execution_count": null
  }
 ],
 "metadata": {
  "kernelspec": {
   "display_name": "Python 3",
   "language": "python",
   "name": "python3"
  },
  "language_info": {
   "codemirror_mode": {
    "name": "ipython",
    "version": 2
   },
   "file_extension": ".py",
   "mimetype": "text/x-python",
   "name": "python",
   "nbconvert_exporter": "python",
   "pygments_lexer": "ipython2",
   "version": "2.7.6"
  }
 },
 "nbformat": 4,
 "nbformat_minor": 5
}
